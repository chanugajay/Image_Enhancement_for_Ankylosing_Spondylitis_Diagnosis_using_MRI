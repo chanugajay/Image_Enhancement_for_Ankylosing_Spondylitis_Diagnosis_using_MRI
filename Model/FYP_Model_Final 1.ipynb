{
 "cells": [
  {
   "cell_type": "code",
   "execution_count": 7,
   "metadata": {},
   "outputs": [
    {
     "name": "stdout",
     "output_type": "stream",
     "text": [
      "Requirement already satisfied: tensorflow in d:\\new folder\\lib\\site-packages (2.18.0)\n",
      "Requirement already satisfied: keras in d:\\new folder\\lib\\site-packages (3.7.0)\n",
      "Requirement already satisfied: tensorflow-intel==2.18.0 in d:\\new folder\\lib\\site-packages (from tensorflow) (2.18.0)\n",
      "Requirement already satisfied: absl-py>=1.0.0 in d:\\new folder\\lib\\site-packages (from tensorflow-intel==2.18.0->tensorflow) (2.1.0)\n",
      "Requirement already satisfied: astunparse>=1.6.0 in d:\\new folder\\lib\\site-packages (from tensorflow-intel==2.18.0->tensorflow) (1.6.3)\n",
      "Requirement already satisfied: flatbuffers>=24.3.25 in d:\\new folder\\lib\\site-packages (from tensorflow-intel==2.18.0->tensorflow) (24.12.23)\n",
      "Requirement already satisfied: gast!=0.5.0,!=0.5.1,!=0.5.2,>=0.2.1 in d:\\new folder\\lib\\site-packages (from tensorflow-intel==2.18.0->tensorflow) (0.6.0)\n",
      "Requirement already satisfied: google-pasta>=0.1.1 in d:\\new folder\\lib\\site-packages (from tensorflow-intel==2.18.0->tensorflow) (0.2.0)\n",
      "Requirement already satisfied: libclang>=13.0.0 in d:\\new folder\\lib\\site-packages (from tensorflow-intel==2.18.0->tensorflow) (18.1.1)\n",
      "Requirement already satisfied: opt-einsum>=2.3.2 in d:\\new folder\\lib\\site-packages (from tensorflow-intel==2.18.0->tensorflow) (3.4.0)\n",
      "Requirement already satisfied: packaging in c:\\users\\asus zenbook\\appdata\\roaming\\python\\python312\\site-packages (from tensorflow-intel==2.18.0->tensorflow) (24.1)\n",
      "Requirement already satisfied: protobuf!=4.21.0,!=4.21.1,!=4.21.2,!=4.21.3,!=4.21.4,!=4.21.5,<6.0.0dev,>=3.20.3 in d:\\new folder\\lib\\site-packages (from tensorflow-intel==2.18.0->tensorflow) (4.25.3)\n",
      "Requirement already satisfied: requests<3,>=2.21.0 in d:\\new folder\\lib\\site-packages (from tensorflow-intel==2.18.0->tensorflow) (2.32.3)\n",
      "Requirement already satisfied: setuptools in d:\\new folder\\lib\\site-packages (from tensorflow-intel==2.18.0->tensorflow) (75.1.0)\n",
      "Requirement already satisfied: six>=1.12.0 in c:\\users\\asus zenbook\\appdata\\roaming\\python\\python312\\site-packages (from tensorflow-intel==2.18.0->tensorflow) (1.16.0)\n",
      "Requirement already satisfied: termcolor>=1.1.0 in d:\\new folder\\lib\\site-packages (from tensorflow-intel==2.18.0->tensorflow) (2.5.0)\n",
      "Requirement already satisfied: typing-extensions>=3.6.6 in d:\\new folder\\lib\\site-packages (from tensorflow-intel==2.18.0->tensorflow) (4.12.2)\n",
      "Requirement already satisfied: wrapt>=1.11.0 in d:\\new folder\\lib\\site-packages (from tensorflow-intel==2.18.0->tensorflow) (1.14.1)\n",
      "Requirement already satisfied: grpcio<2.0,>=1.24.3 in d:\\new folder\\lib\\site-packages (from tensorflow-intel==2.18.0->tensorflow) (1.68.1)\n",
      "Requirement already satisfied: tensorboard<2.19,>=2.18 in d:\\new folder\\lib\\site-packages (from tensorflow-intel==2.18.0->tensorflow) (2.18.0)\n",
      "Requirement already satisfied: numpy<2.1.0,>=1.26.0 in d:\\new folder\\lib\\site-packages (from tensorflow-intel==2.18.0->tensorflow) (1.26.4)\n",
      "Requirement already satisfied: h5py>=3.11.0 in d:\\new folder\\lib\\site-packages (from tensorflow-intel==2.18.0->tensorflow) (3.11.0)\n",
      "Requirement already satisfied: ml-dtypes<0.5.0,>=0.4.0 in d:\\new folder\\lib\\site-packages (from tensorflow-intel==2.18.0->tensorflow) (0.4.1)\n",
      "Requirement already satisfied: rich in d:\\new folder\\lib\\site-packages (from keras) (13.7.1)\n",
      "Requirement already satisfied: namex in d:\\new folder\\lib\\site-packages (from keras) (0.0.8)\n",
      "Requirement already satisfied: optree in d:\\new folder\\lib\\site-packages (from keras) (0.13.1)\n",
      "Requirement already satisfied: markdown-it-py>=2.2.0 in d:\\new folder\\lib\\site-packages (from rich->keras) (2.2.0)\n",
      "Requirement already satisfied: pygments<3.0.0,>=2.13.0 in c:\\users\\asus zenbook\\appdata\\roaming\\python\\python312\\site-packages (from rich->keras) (2.18.0)\n",
      "Requirement already satisfied: wheel<1.0,>=0.23.0 in d:\\new folder\\lib\\site-packages (from astunparse>=1.6.0->tensorflow-intel==2.18.0->tensorflow) (0.44.0)\n",
      "Requirement already satisfied: mdurl~=0.1 in d:\\new folder\\lib\\site-packages (from markdown-it-py>=2.2.0->rich->keras) (0.1.0)\n",
      "Requirement already satisfied: charset-normalizer<4,>=2 in d:\\new folder\\lib\\site-packages (from requests<3,>=2.21.0->tensorflow-intel==2.18.0->tensorflow) (3.3.2)\n",
      "Requirement already satisfied: idna<4,>=2.5 in d:\\new folder\\lib\\site-packages (from requests<3,>=2.21.0->tensorflow-intel==2.18.0->tensorflow) (3.7)\n",
      "Requirement already satisfied: urllib3<3,>=1.21.1 in d:\\new folder\\lib\\site-packages (from requests<3,>=2.21.0->tensorflow-intel==2.18.0->tensorflow) (2.2.3)\n",
      "Requirement already satisfied: certifi>=2017.4.17 in d:\\new folder\\lib\\site-packages (from requests<3,>=2.21.0->tensorflow-intel==2.18.0->tensorflow) (2025.1.31)\n",
      "Requirement already satisfied: markdown>=2.6.8 in d:\\new folder\\lib\\site-packages (from tensorboard<2.19,>=2.18->tensorflow-intel==2.18.0->tensorflow) (3.4.1)\n",
      "Requirement already satisfied: tensorboard-data-server<0.8.0,>=0.7.0 in d:\\new folder\\lib\\site-packages (from tensorboard<2.19,>=2.18->tensorflow-intel==2.18.0->tensorflow) (0.7.2)\n",
      "Requirement already satisfied: werkzeug>=1.0.1 in d:\\new folder\\lib\\site-packages (from tensorboard<2.19,>=2.18->tensorflow-intel==2.18.0->tensorflow) (3.0.3)\n",
      "Requirement already satisfied: MarkupSafe>=2.1.1 in d:\\new folder\\lib\\site-packages (from werkzeug>=1.0.1->tensorboard<2.19,>=2.18->tensorflow-intel==2.18.0->tensorflow) (2.1.3)\n"
     ]
    }
   ],
   "source": [
    "# Install necessary libraries\n",
    "!pip install tensorflow keras"
   ]
  },
  {
   "cell_type": "code",
   "execution_count": 1,
   "metadata": {
    "executionInfo": {
     "elapsed": 6319,
     "status": "ok",
     "timestamp": 1736880627182,
     "user": {
      "displayName": "Chanuga Jayarathne",
      "userId": "16280135571922146810"
     },
     "user_tz": -330
    },
    "id": "sbpX_SeoO8Fd"
   },
   "outputs": [],
   "source": [
    "import os\n",
    "import numpy as np\n",
    "import tensorflow as tf\n",
    "import shutil\n",
    "import random\n",
    "from tensorflow.keras.preprocessing.image import ImageDataGenerator\n",
    "from tensorflow.keras.models import Sequential\n",
    "from tensorflow.keras.layers import Flatten, Dense, Dropout\n",
    "from tensorflow.keras.applications import VGG16\n",
    "from tensorflow.keras.callbacks import EarlyStopping, ModelCheckpoint, ReduceLROnPlateau\n",
    "from tensorflow.keras.metrics import Precision, Recall, AUC\n",
    "from sklearn.utils.class_weight import compute_class_weight\n",
    "import cv2\n"
   ]
  },
  {
   "cell_type": "code",
   "execution_count": 2,
   "metadata": {
    "executionInfo": {
     "elapsed": 17,
     "status": "ok",
     "timestamp": 1736880648115,
     "user": {
      "displayName": "Chanuga Jayarathne",
      "userId": "16280135571922146810"
     },
     "user_tz": -330
    },
    "id": "oS5zQdtYorpq"
   },
   "outputs": [],
   "source": [
    "# Define paths\n",
    "original_data_dir = \"D:/CW/FYP/Axial\"\n",
    "base_dir = \"D:/CW/FYP/Axial Dataset split\"\n",
    "train_dir = os.path.join(base_dir, \"Train\")\n",
    "val_dir = os.path.join(base_dir, \"Validation\")\n",
    "test_dir = os.path.join(base_dir, \"Test\")\n"
   ]
  },
  {
   "cell_type": "code",
   "execution_count": 3,
   "metadata": {},
   "outputs": [],
   "source": [
    "# Ensure the dataset folders exist\n",
    "for folder in [train_dir, val_dir, test_dir]:\n",
    "    os.makedirs(folder, exist_ok=True)"
   ]
  },
  {
   "cell_type": "code",
   "execution_count": 4,
   "metadata": {},
   "outputs": [],
   "source": [
    "# Classes\n",
    "categories = [\"AS Diganosis\", \"No AS Diganosis\"]"
   ]
  },
  {
   "cell_type": "code",
   "execution_count": 11,
   "metadata": {},
   "outputs": [],
   "source": [
    "# # Shuffle and split data\n",
    "# for category in categories:\n",
    "#     class_path = os.path.join(original_data_dir, category)\n",
    "#     images = os.listdir(class_path)\n",
    "#     random.shuffle(images)  # Shuffle images\n",
    "\n",
    "#     train_images = images[:800]\n",
    "#     val_images = images[800:900]\n",
    "#     test_images = images[900:1000]\n",
    "\n",
    "#     for dataset, dataset_images in zip([train_dir, val_dir, test_dir], [train_images, val_images, test_images]):\n",
    "#         class_subdir = os.path.join(dataset, category)\n",
    "#         os.makedirs(class_subdir, exist_ok=True)\n",
    "#         for image in dataset_images:\n",
    "#             shutil.copy(os.path.join(class_path, image), os.path.join(class_subdir, image))"
   ]
  },
  {
   "cell_type": "code",
   "execution_count": 9,
   "metadata": {},
   "outputs": [],
   "source": [
    "# Image properties\n",
    "img_height = 224\n",
    "img_width = 224\n",
    "batch_size = 32"
   ]
  },
  {
   "cell_type": "code",
   "execution_count": 11,
   "metadata": {},
   "outputs": [],
   "source": [
    "# Preprocessing function (CLAHE contrast enhancement)\n",
    "def enhance_image(img):\n",
    "    if len(img.shape) == 3 and img.shape[-1] == 3:\n",
    "        img = cv2.cvtColor(img, cv2.COLOR_RGB2GRAY)\n",
    "    img = np.uint8(img)\n",
    "    clahe = cv2.createCLAHE(clipLimit=2.0, tileGridSize=(8, 8))\n",
    "    enhanced_img = clahe.apply(img)\n",
    "    enhanced_img = cv2.cvtColor(enhanced_img, cv2.COLOR_GRAY2RGB)\n",
    "    return enhanced_img.astype(np.float32)"
   ]
  },
  {
   "cell_type": "code",
   "execution_count": 13,
   "metadata": {},
   "outputs": [
    {
     "name": "stdout",
     "output_type": "stream",
     "text": [
      "Found 1600 images belonging to 2 classes.\n",
      "Found 200 images belonging to 2 classes.\n",
      "Found 200 images belonging to 2 classes.\n"
     ]
    }
   ],
   "source": [
    "# Data augmentation\n",
    "train_datagen = ImageDataGenerator(\n",
    "    rescale=1.0 / 255,\n",
    "    rotation_range=30,\n",
    "    width_shift_range=0.3,\n",
    "    height_shift_range=0.3,\n",
    "    shear_range=0.3,\n",
    "    zoom_range=0.3,\n",
    "    horizontal_flip=True,\n",
    "    vertical_flip=True,\n",
    "    preprocessing_function=enhance_image\n",
    ")\n",
    "val_test_datagen = ImageDataGenerator(\n",
    "    rescale=1.0 / 255,\n",
    "    preprocessing_function=enhance_image\n",
    ")\n",
    "\n",
    "# Load data\n",
    "train_generator = train_datagen.flow_from_directory(\n",
    "    train_dir,\n",
    "    target_size=(img_height, img_width),\n",
    "    batch_size=batch_size,\n",
    "    class_mode='binary'\n",
    ")\n",
    "val_generator = val_test_datagen.flow_from_directory(\n",
    "    val_dir,\n",
    "    target_size=(img_height, img_width),\n",
    "    batch_size=batch_size,\n",
    "    class_mode='binary'\n",
    ")\n",
    "test_generator = val_test_datagen.flow_from_directory(\n",
    "    test_dir,\n",
    "    target_size=(img_height, img_width),\n",
    "    batch_size=batch_size,\n",
    "    class_mode='binary',\n",
    "    shuffle=False\n",
    ")"
   ]
  },
  {
   "cell_type": "code",
   "execution_count": 19,
   "metadata": {},
   "outputs": [],
   "source": [
    "# Load pre-trained VGG16 model\n",
    "base_model = VGG16(weights='imagenet', include_top=False, input_shape=(img_height, img_width, 3))\n",
    "base_model.trainable = True"
   ]
  },
  {
   "cell_type": "code",
   "execution_count": 21,
   "metadata": {},
   "outputs": [],
   "source": [
    "# Freeze initial layers\n",
    "for layer in base_model.layers[:10]:\n",
    "    layer.trainable = False"
   ]
  },
  {
   "cell_type": "code",
   "execution_count": 23,
   "metadata": {},
   "outputs": [
    {
     "name": "stdout",
     "output_type": "stream",
     "text": [
      "input_layer False\n",
      "block1_conv1 False\n",
      "block1_conv2 False\n",
      "block1_pool False\n",
      "block2_conv1 False\n",
      "block2_conv2 False\n",
      "block2_pool False\n",
      "block3_conv1 False\n",
      "block3_conv2 False\n",
      "block3_conv3 False\n",
      "block3_pool True\n",
      "block4_conv1 True\n",
      "block4_conv2 True\n",
      "block4_conv3 True\n",
      "block4_pool True\n",
      "block5_conv1 True\n",
      "block5_conv2 True\n",
      "block5_conv3 True\n",
      "block5_pool True\n"
     ]
    }
   ],
   "source": [
    "for layer in base_model.layers:\n",
    "    print(layer.name, layer.trainable)"
   ]
  },
  {
   "cell_type": "code",
   "execution_count": 25,
   "metadata": {},
   "outputs": [],
   "source": [
    "# Define model\n",
    "model = Sequential([\n",
    "    base_model,\n",
    "    Flatten(),\n",
    "    Dense(256, activation='relu', kernel_regularizer=tf.keras.regularizers.l2(0.001)),\n",
    "    Dropout(0.5),\n",
    "    Dense(128, activation='relu', kernel_regularizer=tf.keras.regularizers.l2(0.001)),\n",
    "    Dropout(0.5),\n",
    "    Dense(1, activation='sigmoid')\n",
    "])"
   ]
  },
  {
   "cell_type": "code",
   "execution_count": 33,
   "metadata": {},
   "outputs": [],
   "source": [
    "# Compile model\n",
    "model.compile(\n",
    "    optimizer=tf.keras.optimizers.Adam(learning_rate=0.00001),\n",
    "    loss='binary_crossentropy',\n",
    "    metrics=['accuracy', Precision(name='precision'), Recall(name='recall'), AUC(name='auc')]\n",
    ")"
   ]
  },
  {
   "cell_type": "code",
   "execution_count": 35,
   "metadata": {},
   "outputs": [],
   "source": [
    "# Compute class weights\n",
    "class_weights = compute_class_weight(\n",
    "    class_weight='balanced',\n",
    "    classes=np.unique(train_generator.classes),\n",
    "    y=train_generator.classes\n",
    ")\n",
    "class_weights = dict(enumerate(class_weights))"
   ]
  },
  {
   "cell_type": "code",
   "execution_count": 37,
   "metadata": {},
   "outputs": [
    {
     "name": "stderr",
     "output_type": "stream",
     "text": [
      "D:\\New folder\\Lib\\site-packages\\keras\\src\\trainers\\data_adapters\\py_dataset_adapter.py:121: UserWarning: Your `PyDataset` class should call `super().__init__(**kwargs)` in its constructor. `**kwargs` can include `workers`, `use_multiprocessing`, `max_queue_size`. Do not pass these arguments to `fit()`, as they will be ignored.\n",
      "  self._warn_if_super_not_called()\n"
     ]
    },
    {
     "name": "stdout",
     "output_type": "stream",
     "text": [
      "Epoch 1/50\n",
      "\u001b[1m50/50\u001b[0m \u001b[32m━━━━━━━━━━━━━━━━━━━━\u001b[0m\u001b[37m\u001b[0m \u001b[1m596s\u001b[0m 12s/step - accuracy: 0.4739 - auc: 0.4547 - loss: 1.4712 - precision: 0.4724 - recall: 0.5508 - val_accuracy: 0.6562 - val_auc: 0.6971 - val_loss: 1.3175 - val_precision: 0.6321 - val_recall: 0.7128 - learning_rate: 1.0000e-05\n",
      "Epoch 2/50\n",
      "\u001b[1m50/50\u001b[0m \u001b[32m━━━━━━━━━━━━━━━━━━━━\u001b[0m\u001b[37m\u001b[0m \u001b[1m618s\u001b[0m 12s/step - accuracy: 0.5476 - auc: 0.5659 - loss: 1.3539 - precision: 0.5411 - recall: 0.5767 - val_accuracy: 0.6406 - val_auc: 0.7224 - val_loss: 1.2871 - val_precision: 0.6116 - val_recall: 0.7708 - learning_rate: 1.0000e-05\n",
      "Epoch 3/50\n",
      "\u001b[1m50/50\u001b[0m \u001b[32m━━━━━━━━━━━━━━━━━━━━\u001b[0m\u001b[37m\u001b[0m \u001b[1m632s\u001b[0m 13s/step - accuracy: 0.6084 - auc: 0.6449 - loss: 1.3041 - precision: 0.6048 - recall: 0.5967 - val_accuracy: 0.6719 - val_auc: 0.7348 - val_loss: 1.2420 - val_precision: 0.7125 - val_recall: 0.5876 - learning_rate: 1.0000e-05\n",
      "Epoch 4/50\n",
      "\u001b[1m50/50\u001b[0m \u001b[32m━━━━━━━━━━━━━━━━━━━━\u001b[0m\u001b[37m\u001b[0m \u001b[1m633s\u001b[0m 13s/step - accuracy: 0.6017 - auc: 0.6580 - loss: 1.2734 - precision: 0.6024 - recall: 0.5961 - val_accuracy: 0.6927 - val_auc: 0.7668 - val_loss: 1.2041 - val_precision: 0.6792 - val_recall: 0.7423 - learning_rate: 1.0000e-05\n",
      "Epoch 5/50\n",
      "\u001b[1m50/50\u001b[0m \u001b[32m━━━━━━━━━━━━━━━━━━━━\u001b[0m\u001b[37m\u001b[0m \u001b[1m634s\u001b[0m 13s/step - accuracy: 0.6361 - auc: 0.6881 - loss: 1.2498 - precision: 0.6482 - recall: 0.6004 - val_accuracy: 0.6875 - val_auc: 0.8049 - val_loss: 1.1940 - val_precision: 0.6328 - val_recall: 0.8617 - learning_rate: 1.0000e-05\n",
      "Epoch 6/50\n",
      "\u001b[1m50/50\u001b[0m \u001b[32m━━━━━━━━━━━━━━━━━━━━\u001b[0m\u001b[37m\u001b[0m \u001b[1m587s\u001b[0m 12s/step - accuracy: 0.7221 - auc: 0.7898 - loss: 1.1665 - precision: 0.7038 - recall: 0.7717 - val_accuracy: 0.7760 - val_auc: 0.8548 - val_loss: 1.0958 - val_precision: 0.7383 - val_recall: 0.8404 - learning_rate: 1.0000e-05\n",
      "Epoch 7/50\n",
      "\u001b[1m50/50\u001b[0m \u001b[32m━━━━━━━━━━━━━━━━━━━━\u001b[0m\u001b[37m\u001b[0m \u001b[1m644s\u001b[0m 13s/step - accuracy: 0.7114 - auc: 0.7765 - loss: 1.1611 - precision: 0.7298 - recall: 0.7184 - val_accuracy: 0.7917 - val_auc: 0.8705 - val_loss: 1.0625 - val_precision: 0.7500 - val_recall: 0.8878 - learning_rate: 1.0000e-05\n",
      "Epoch 8/50\n",
      "\u001b[1m50/50\u001b[0m \u001b[32m━━━━━━━━━━━━━━━━━━━━\u001b[0m\u001b[37m\u001b[0m \u001b[1m624s\u001b[0m 12s/step - accuracy: 0.7485 - auc: 0.8241 - loss: 1.1078 - precision: 0.7457 - recall: 0.7546 - val_accuracy: 0.8229 - val_auc: 0.8935 - val_loss: 1.0147 - val_precision: 0.8298 - val_recall: 0.8125 - learning_rate: 1.0000e-05\n",
      "Epoch 9/50\n",
      "\u001b[1m50/50\u001b[0m \u001b[32m━━━━━━━━━━━━━━━━━━━━\u001b[0m\u001b[37m\u001b[0m \u001b[1m636s\u001b[0m 13s/step - accuracy: 0.7430 - auc: 0.8231 - loss: 1.0962 - precision: 0.7445 - recall: 0.7571 - val_accuracy: 0.7396 - val_auc: 0.8814 - val_loss: 1.1122 - val_precision: 0.6643 - val_recall: 0.9688 - learning_rate: 1.0000e-05\n",
      "Epoch 10/50\n",
      "\u001b[1m50/50\u001b[0m \u001b[32m━━━━━━━━━━━━━━━━━━━━\u001b[0m\u001b[37m\u001b[0m \u001b[1m0s\u001b[0m 12s/step - accuracy: 0.7716 - auc: 0.8390 - loss: 1.0745 - precision: 0.7560 - recall: 0.8205 \n",
      "Epoch 10: ReduceLROnPlateau reducing learning rate to 1.9999999494757505e-06.\n",
      "\u001b[1m50/50\u001b[0m \u001b[32m━━━━━━━━━━━━━━━━━━━━\u001b[0m\u001b[37m\u001b[0m \u001b[1m643s\u001b[0m 13s/step - accuracy: 0.7716 - auc: 0.8389 - loss: 1.0745 - precision: 0.7561 - recall: 0.8203 - val_accuracy: 0.7708 - val_auc: 0.8934 - val_loss: 1.0263 - val_precision: 0.7040 - val_recall: 0.9263 - learning_rate: 1.0000e-05\n",
      "Epoch 11/50\n",
      "\u001b[1m50/50\u001b[0m \u001b[32m━━━━━━━━━━━━━━━━━━━━\u001b[0m\u001b[37m\u001b[0m \u001b[1m729s\u001b[0m 15s/step - accuracy: 0.7864 - auc: 0.8496 - loss: 1.0507 - precision: 0.7817 - recall: 0.7819 - val_accuracy: 0.8333 - val_auc: 0.9056 - val_loss: 0.9686 - val_precision: 0.7826 - val_recall: 0.9278 - learning_rate: 2.0000e-06\n",
      "Epoch 12/50\n",
      "\u001b[1m50/50\u001b[0m \u001b[32m━━━━━━━━━━━━━━━━━━━━\u001b[0m\u001b[37m\u001b[0m \u001b[1m646s\u001b[0m 13s/step - accuracy: 0.7762 - auc: 0.8477 - loss: 1.0518 - precision: 0.7727 - recall: 0.7694 - val_accuracy: 0.8385 - val_auc: 0.9077 - val_loss: 0.9535 - val_precision: 0.7928 - val_recall: 0.9167 - learning_rate: 2.0000e-06\n",
      "Epoch 13/50\n",
      "\u001b[1m50/50\u001b[0m \u001b[32m━━━━━━━━━━━━━━━━━━━━\u001b[0m\u001b[37m\u001b[0m \u001b[1m626s\u001b[0m 13s/step - accuracy: 0.8122 - auc: 0.8715 - loss: 1.0214 - precision: 0.8037 - recall: 0.8108 - val_accuracy: 0.8438 - val_auc: 0.9115 - val_loss: 0.9519 - val_precision: 0.7982 - val_recall: 0.9286 - learning_rate: 2.0000e-06\n",
      "Epoch 14/50\n",
      "\u001b[1m50/50\u001b[0m \u001b[32m━━━━━━━━━━━━━━━━━━━━\u001b[0m\u001b[37m\u001b[0m \u001b[1m621s\u001b[0m 12s/step - accuracy: 0.8110 - auc: 0.8727 - loss: 1.0164 - precision: 0.7883 - recall: 0.8473 - val_accuracy: 0.8438 - val_auc: 0.9071 - val_loss: 0.9642 - val_precision: 0.7826 - val_recall: 0.9474 - learning_rate: 2.0000e-06\n",
      "Epoch 15/50\n",
      "\u001b[1m50/50\u001b[0m \u001b[32m━━━━━━━━━━━━━━━━━━━━\u001b[0m\u001b[37m\u001b[0m \u001b[1m0s\u001b[0m 12s/step - accuracy: 0.7942 - auc: 0.8748 - loss: 1.0054 - precision: 0.7845 - recall: 0.7970 \n",
      "Epoch 15: ReduceLROnPlateau reducing learning rate to 3.999999989900971e-07.\n",
      "\u001b[1m50/50\u001b[0m \u001b[32m━━━━━━━━━━━━━━━━━━━━\u001b[0m\u001b[37m\u001b[0m \u001b[1m641s\u001b[0m 13s/step - accuracy: 0.7943 - auc: 0.8747 - loss: 1.0055 - precision: 0.7847 - recall: 0.7971 - val_accuracy: 0.8438 - val_auc: 0.9019 - val_loss: 0.9579 - val_precision: 0.7982 - val_recall: 0.9286 - learning_rate: 2.0000e-06\n",
      "Epoch 16/50\n",
      "\u001b[1m50/50\u001b[0m \u001b[32m━━━━━━━━━━━━━━━━━━━━\u001b[0m\u001b[37m\u001b[0m \u001b[1m628s\u001b[0m 13s/step - accuracy: 0.7986 - auc: 0.8710 - loss: 1.0112 - precision: 0.8043 - recall: 0.8100 - val_accuracy: 0.8229 - val_auc: 0.9013 - val_loss: 0.9742 - val_precision: 0.7627 - val_recall: 0.9375 - learning_rate: 4.0000e-07\n",
      "Epoch 17/50\n",
      "\u001b[1m50/50\u001b[0m \u001b[32m━━━━━━━━━━━━━━━━━━━━\u001b[0m\u001b[37m\u001b[0m \u001b[1m683s\u001b[0m 14s/step - accuracy: 0.8136 - auc: 0.8854 - loss: 0.9867 - precision: 0.8176 - recall: 0.8121 - val_accuracy: 0.8490 - val_auc: 0.9163 - val_loss: 0.9388 - val_precision: 0.7965 - val_recall: 0.9375 - learning_rate: 4.0000e-07\n",
      "Epoch 18/50\n",
      "\u001b[1m50/50\u001b[0m \u001b[32m━━━━━━━━━━━━━━━━━━━━\u001b[0m\u001b[37m\u001b[0m \u001b[1m638s\u001b[0m 13s/step - accuracy: 0.8076 - auc: 0.8789 - loss: 0.9947 - precision: 0.8040 - recall: 0.8123 - val_accuracy: 0.8281 - val_auc: 0.9010 - val_loss: 0.9816 - val_precision: 0.7672 - val_recall: 0.9368 - learning_rate: 4.0000e-07\n",
      "Epoch 19/50\n",
      "\u001b[1m50/50\u001b[0m \u001b[32m━━━━━━━━━━━━━━━━━━━━\u001b[0m\u001b[37m\u001b[0m \u001b[1m0s\u001b[0m 13s/step - accuracy: 0.8253 - auc: 0.8962 - loss: 0.9760 - precision: 0.7986 - recall: 0.8541 \n",
      "Epoch 19: ReduceLROnPlateau reducing learning rate to 8.00000009348878e-08.\n",
      "\u001b[1m50/50\u001b[0m \u001b[32m━━━━━━━━━━━━━━━━━━━━\u001b[0m\u001b[37m\u001b[0m \u001b[1m669s\u001b[0m 13s/step - accuracy: 0.8252 - auc: 0.8961 - loss: 0.9762 - precision: 0.7988 - recall: 0.8539 - val_accuracy: 0.8333 - val_auc: 0.9019 - val_loss: 0.9688 - val_precision: 0.7759 - val_recall: 0.9375 - learning_rate: 4.0000e-07\n",
      "Epoch 20/50\n",
      "\u001b[1m50/50\u001b[0m \u001b[32m━━━━━━━━━━━━━━━━━━━━\u001b[0m\u001b[37m\u001b[0m \u001b[1m623s\u001b[0m 12s/step - accuracy: 0.8284 - auc: 0.8953 - loss: 0.9698 - precision: 0.8276 - recall: 0.8332 - val_accuracy: 0.8333 - val_auc: 0.9021 - val_loss: 0.9676 - val_precision: 0.7759 - val_recall: 0.9375 - learning_rate: 8.0000e-08\n",
      "Epoch 21/50\n",
      "\u001b[1m50/50\u001b[0m \u001b[32m━━━━━━━━━━━━━━━━━━━━\u001b[0m\u001b[37m\u001b[0m \u001b[1m0s\u001b[0m 11s/step - accuracy: 0.8171 - auc: 0.8751 - loss: 1.0056 - precision: 0.8070 - recall: 0.8341 \n",
      "Epoch 21: ReduceLROnPlateau reducing learning rate to 1.5999999902760466e-08.\n",
      "\u001b[1m50/50\u001b[0m \u001b[32m━━━━━━━━━━━━━━━━━━━━\u001b[0m\u001b[37m\u001b[0m \u001b[1m607s\u001b[0m 12s/step - accuracy: 0.8170 - auc: 0.8751 - loss: 1.0056 - precision: 0.8068 - recall: 0.8340 - val_accuracy: 0.8333 - val_auc: 0.9132 - val_loss: 0.9518 - val_precision: 0.7719 - val_recall: 0.9362 - learning_rate: 8.0000e-08\n",
      "Epoch 22/50\n",
      "\u001b[1m50/50\u001b[0m \u001b[32m━━━━━━━━━━━━━━━━━━━━\u001b[0m\u001b[37m\u001b[0m \u001b[1m628s\u001b[0m 13s/step - accuracy: 0.8329 - auc: 0.8853 - loss: 0.9869 - precision: 0.8405 - recall: 0.8378 - val_accuracy: 0.8229 - val_auc: 0.9006 - val_loss: 0.9764 - val_precision: 0.7627 - val_recall: 0.9375 - learning_rate: 1.6000e-08\n",
      "Epoch 23/50\n",
      "\u001b[1m50/50\u001b[0m \u001b[32m━━━━━━━━━━━━━━━━━━━━\u001b[0m\u001b[37m\u001b[0m \u001b[1m0s\u001b[0m 12s/step - accuracy: 0.8282 - auc: 0.8926 - loss: 0.9710 - precision: 0.8254 - recall: 0.8495 \n",
      "Epoch 23: ReduceLROnPlateau reducing learning rate to 3.1999999094978194e-09.\n",
      "\u001b[1m50/50\u001b[0m \u001b[32m━━━━━━━━━━━━━━━━━━━━\u001b[0m\u001b[37m\u001b[0m \u001b[1m648s\u001b[0m 13s/step - accuracy: 0.8278 - auc: 0.8924 - loss: 0.9715 - precision: 0.8249 - recall: 0.8491 - val_accuracy: 0.8281 - val_auc: 0.8995 - val_loss: 0.9743 - val_precision: 0.7731 - val_recall: 0.9388 - learning_rate: 1.6000e-08\n",
      "Epoch 24/50\n",
      "\u001b[1m50/50\u001b[0m \u001b[32m━━━━━━━━━━━━━━━━━━━━\u001b[0m\u001b[37m\u001b[0m \u001b[1m631s\u001b[0m 13s/step - accuracy: 0.8100 - auc: 0.8829 - loss: 0.9928 - precision: 0.7911 - recall: 0.8493 - val_accuracy: 0.8438 - val_auc: 0.9081 - val_loss: 0.9528 - val_precision: 0.7863 - val_recall: 0.9485 - learning_rate: 3.2000e-09\n",
      "Epoch 25/50\n",
      "\u001b[1m50/50\u001b[0m \u001b[32m━━━━━━━━━━━━━━━━━━━━\u001b[0m\u001b[37m\u001b[0m \u001b[1m0s\u001b[0m 13s/step - accuracy: 0.8167 - auc: 0.8853 - loss: 0.9917 - precision: 0.8070 - recall: 0.8317 \n",
      "Epoch 25: ReduceLROnPlateau reducing learning rate to 6.399999641359955e-10.\n",
      "\u001b[1m50/50\u001b[0m \u001b[32m━━━━━━━━━━━━━━━━━━━━\u001b[0m\u001b[37m\u001b[0m \u001b[1m684s\u001b[0m 14s/step - accuracy: 0.8167 - auc: 0.8852 - loss: 0.9918 - precision: 0.8069 - recall: 0.8318 - val_accuracy: 0.8385 - val_auc: 0.9123 - val_loss: 0.9495 - val_precision: 0.7826 - val_recall: 0.9375 - learning_rate: 3.2000e-09\n",
      "Epoch 26/50\n",
      "\u001b[1m50/50\u001b[0m \u001b[32m━━━━━━━━━━━━━━━━━━━━\u001b[0m\u001b[37m\u001b[0m \u001b[1m562s\u001b[0m 11s/step - accuracy: 0.7824 - auc: 0.8702 - loss: 1.0080 - precision: 0.7850 - recall: 0.7922 - val_accuracy: 0.8281 - val_auc: 0.9006 - val_loss: 0.9742 - val_precision: 0.7692 - val_recall: 0.9375 - learning_rate: 6.4000e-10\n",
      "Epoch 27/50\n",
      "\u001b[1m50/50\u001b[0m \u001b[32m━━━━━━━━━━━━━━━━━━━━\u001b[0m\u001b[37m\u001b[0m \u001b[1m0s\u001b[0m 11s/step - accuracy: 0.8118 - auc: 0.8846 - loss: 0.9898 - precision: 0.7970 - recall: 0.8272 \n",
      "Epoch 27: ReduceLROnPlateau reducing learning rate to 1.27999988386307e-10.\n",
      "\u001b[1m50/50\u001b[0m \u001b[32m━━━━━━━━━━━━━━━━━━━━\u001b[0m\u001b[37m\u001b[0m \u001b[1m564s\u001b[0m 11s/step - accuracy: 0.8117 - auc: 0.8845 - loss: 0.9899 - precision: 0.7971 - recall: 0.8270 - val_accuracy: 0.8385 - val_auc: 0.9039 - val_loss: 0.9611 - val_precision: 0.7826 - val_recall: 0.9375 - learning_rate: 6.4000e-10\n"
     ]
    }
   ],
   "source": [
    "# Define callbacks\n",
    "callbacks = [\n",
    "    EarlyStopping(monitor='val_loss', patience=10, restore_best_weights=True),\n",
    "    ModelCheckpoint(\"best_model.keras\", save_best_only=True, monitor='val_loss'),\n",
    "    ReduceLROnPlateau(monitor='val_loss', factor=0.2, patience=2, verbose=1)\n",
    "]\n",
    "\n",
    "# Train model\n",
    "history = model.fit(\n",
    "    train_generator,\n",
    "    steps_per_epoch=train_generator.samples // batch_size,\n",
    "    validation_data=val_generator,\n",
    "    validation_steps=val_generator.samples // batch_size,\n",
    "    epochs=50,\n",
    "    callbacks=callbacks,\n",
    "    #class_weight=class_weights\n",
    ")"
   ]
  },
  {
   "cell_type": "code",
   "execution_count": 39,
   "metadata": {},
   "outputs": [
    {
     "name": "stdout",
     "output_type": "stream",
     "text": [
      "\u001b[1m7/7\u001b[0m \u001b[32m━━━━━━━━━━━━━━━━━━━━\u001b[0m\u001b[37m\u001b[0m \u001b[1m24s\u001b[0m 3s/step - accuracy: 0.7978 - auc: 0.5720 - loss: 1.0209 - precision: 0.4321 - recall: 0.5696    \n",
      "Test Accuracy: 80.50%\n",
      "Test Precision: 0.77\n",
      "Test Recall: 0.88\n",
      "Test AUC: 0.89\n"
     ]
    }
   ],
   "source": [
    "# Evaluate the model on the test set\n",
    "test_loss, test_accuracy, test_precision, test_recall, test_auc = model.evaluate(test_generator)\n",
    "print(f\"Test Accuracy: {test_accuracy * 100:.2f}%\")\n",
    "print(f\"Test Precision: {test_precision:.2f}\")\n",
    "print(f\"Test Recall: {test_recall:.2f}\")\n",
    "print(f\"Test AUC: {test_auc:.2f}\")\n"
   ]
  },
  {
   "cell_type": "code",
   "execution_count": 43,
   "metadata": {},
   "outputs": [
    {
     "data": {
      "image/png": "[encoded data removed]",
      "text/plain": [
       "<Figure size 1200x600 with 2 Axes>"
      ]
     },
     "metadata": {},
     "output_type": "display_data"
    }
   ],
   "source": [
    "import matplotlib.pyplot as plt\n",
    "# Plot training and validation accuracy/loss\n",
    "plt.figure(figsize=(12, 6))\n",
    "\n",
    "plt.subplot(1, 2, 1)\n",
    "plt.plot(history.history['accuracy'], label='Train Accuracy')\n",
    "plt.plot(history.history['val_accuracy'], label='Validation Accuracy')\n",
    "plt.title('Model Accuracy')\n",
    "plt.xlabel('Epochs')\n",
    "plt.ylabel('Accuracy')\n",
    "plt.legend()\n",
    "\n",
    "plt.subplot(1, 2, 2)\n",
    "plt.plot(history.history['loss'], label='Train Loss')\n",
    "plt.plot(history.history['val_loss'], label='Validation Loss')\n",
    "plt.title('Model Loss')\n",
    "plt.xlabel('Epochs')\n",
    "plt.ylabel('Loss')\n",
    "plt.legend()\n",
    "\n",
    "plt.tight_layout()\n",
    "plt.show()"
   ]
  },
  {
   "cell_type": "code",
   "execution_count": 45,
   "metadata": {},
   "outputs": [],
   "source": [
    "# Save the final model\n",
    "model.save(\"D:/Final Year/FYP/ankylosing_spondylitis_vgg16_model_Final_2.keras\")\n"
   ]
  },
  {
   "cell_type": "code",
   "execution_count": 15,
   "metadata": {},
   "outputs": [],
   "source": [
    "from keras.models import load_model\n",
    "saved_model = load_model('D:/Final Year/FYP/ankylosing_spondylitis_vgg16_model_Final_2.keras')"
   ]
  },
  {
   "cell_type": "code",
   "execution_count": 25,
   "metadata": {},
   "outputs": [
    {
     "name": "stdout",
     "output_type": "stream",
     "text": [
      "\u001b[1m7/7\u001b[0m \u001b[32m━━━━━━━━━━━━━━━━━━━━\u001b[0m\u001b[37m\u001b[0m \u001b[1m45s\u001b[0m 6s/step\n"
     ]
    }
   ],
   "source": [
    "prediction_VGG16 = saved_model.predict(test_generator) "
   ]
  },
  {
   "cell_type": "code",
   "execution_count": 27,
   "metadata": {},
   "outputs": [
    {
     "data": {
      "text/plain": [
       "array([[0.16693072],\n",
       "       [0.4494785 ],\n",
       "       [0.0996934 ],\n",
       "       [0.07207481],\n",
       "       [0.08517908],\n",
       "       [0.15645123],\n",
       "       [0.14211202],\n",
       "       [0.6938627 ],\n",
       "       [0.22183824],\n",
       "       [0.48247004],\n",
       "       [0.42031085],\n",
       "       [0.18906246],\n",
       "       [0.11403557],\n",
       "       [0.2569486 ],\n",
       "       [0.02906567],\n",
       "       [0.21979426],\n",
       "       [0.19730352],\n",
       "       [0.6053656 ],\n",
       "       [0.41966918],\n",
       "       [0.08677176],\n",
       "       [0.0766032 ],\n",
       "       [0.10140739],\n",
       "       [0.06871036],\n",
       "       [0.02615514],\n",
       "       [0.0533544 ],\n",
       "       [0.03470376],\n",
       "       [0.7156    ],\n",
       "       [0.02488562],\n",
       "       [0.12700231],\n",
       "       [0.09565222],\n",
       "       [0.05191758],\n",
       "       [0.08117003],\n",
       "       [0.09699524],\n",
       "       [0.0283642 ],\n",
       "       [0.87089056],\n",
       "       [0.9346168 ],\n",
       "       [0.54186463],\n",
       "       [0.80798966],\n",
       "       [0.06860929],\n",
       "       [0.09780506],\n",
       "       [0.04337105],\n",
       "       [0.95469016],\n",
       "       [0.9261589 ],\n",
       "       [0.93849874],\n",
       "       [0.27363053],\n",
       "       [0.6956008 ],\n",
       "       [0.6925005 ],\n",
       "       [0.88257086],\n",
       "       [0.06577074],\n",
       "       [0.11324112],\n",
       "       [0.12502283],\n",
       "       [0.26174757],\n",
       "       [0.18550596],\n",
       "       [0.85164034],\n",
       "       [0.4557604 ],\n",
       "       [0.8007995 ],\n",
       "       [0.9060066 ],\n",
       "       [0.6249734 ],\n",
       "       [0.03507828],\n",
       "       [0.3425571 ],\n",
       "       [0.11184505],\n",
       "       [0.21059535],\n",
       "       [0.14673787],\n",
       "       [0.9262935 ],\n",
       "       [0.82013726],\n",
       "       [0.8201866 ],\n",
       "       [0.74739677],\n",
       "       [0.24270812],\n",
       "       [0.13199133],\n",
       "       [0.27932113],\n",
       "       [0.08349437],\n",
       "       [0.15361856],\n",
       "       [0.19186565],\n",
       "       [0.09405744],\n",
       "       [0.22462966],\n",
       "       [0.37660074],\n",
       "       [0.02933787],\n",
       "       [0.02712729],\n",
       "       [0.02238607],\n",
       "       [0.10049536],\n",
       "       [0.15792568],\n",
       "       [0.31851867],\n",
       "       [0.605523  ],\n",
       "       [0.04353135],\n",
       "       [0.11783545],\n",
       "       [0.07592613],\n",
       "       [0.33746782],\n",
       "       [0.5379952 ],\n",
       "       [0.11058071],\n",
       "       [0.3934968 ],\n",
       "       [0.29069966],\n",
       "       [0.17673211],\n",
       "       [0.15334764],\n",
       "       [0.70976377],\n",
       "       [0.40113622],\n",
       "       [0.8415724 ],\n",
       "       [0.79235727],\n",
       "       [0.05096178],\n",
       "       [0.81186163],\n",
       "       [0.1773796 ],\n",
       "       [0.9829447 ],\n",
       "       [0.98465437],\n",
       "       [0.857124  ],\n",
       "       [0.27197194],\n",
       "       [0.95255774],\n",
       "       [0.856081  ],\n",
       "       [0.9694159 ],\n",
       "       [0.9695177 ],\n",
       "       [0.22843435],\n",
       "       [0.9748004 ],\n",
       "       [0.50960356],\n",
       "       [0.82803935],\n",
       "       [0.95298696],\n",
       "       [0.87085897],\n",
       "       [0.82450587],\n",
       "       [0.9497689 ],\n",
       "       [0.9445133 ],\n",
       "       [0.94938236],\n",
       "       [0.9311727 ],\n",
       "       [0.97220653],\n",
       "       [0.8976357 ],\n",
       "       [0.89756584],\n",
       "       [0.9489723 ],\n",
       "       [0.9421905 ],\n",
       "       [0.97187275],\n",
       "       [0.8668898 ],\n",
       "       [0.9269748 ],\n",
       "       [0.7743886 ],\n",
       "       [0.9699693 ],\n",
       "       [0.34122583],\n",
       "       [0.77324367],\n",
       "       [0.9735154 ],\n",
       "       [0.868802  ],\n",
       "       [0.83899677],\n",
       "       [0.938727  ],\n",
       "       [0.7556309 ],\n",
       "       [0.38836294],\n",
       "       [0.9046501 ],\n",
       "       [0.9761238 ],\n",
       "       [0.8281741 ],\n",
       "       [0.9832192 ],\n",
       "       [0.9811498 ],\n",
       "       [0.95930403],\n",
       "       [0.9235937 ],\n",
       "       [0.8730854 ],\n",
       "       [0.8739315 ],\n",
       "       [0.950199  ],\n",
       "       [0.95122355],\n",
       "       [0.9133605 ],\n",
       "       [0.9586543 ],\n",
       "       [0.9705774 ],\n",
       "       [0.9514569 ],\n",
       "       [0.97514296],\n",
       "       [0.9371124 ],\n",
       "       [0.89717335],\n",
       "       [0.92389655],\n",
       "       [0.90484095],\n",
       "       [0.8158214 ],\n",
       "       [0.95710135],\n",
       "       [0.9517652 ],\n",
       "       [0.9541397 ],\n",
       "       [0.9587587 ],\n",
       "       [0.9394451 ],\n",
       "       [0.38581356],\n",
       "       [0.77754045],\n",
       "       [0.747162  ],\n",
       "       [0.87940806],\n",
       "       [0.89363754],\n",
       "       [0.8559797 ],\n",
       "       [0.88116485],\n",
       "       [0.91663593],\n",
       "       [0.9714917 ],\n",
       "       [0.9591372 ],\n",
       "       [0.9674228 ],\n",
       "       [0.9076078 ],\n",
       "       [0.94456565],\n",
       "       [0.83932525],\n",
       "       [0.9185826 ],\n",
       "       [0.83724535],\n",
       "       [0.6551937 ],\n",
       "       [0.94712734],\n",
       "       [0.9013565 ],\n",
       "       [0.88303584],\n",
       "       [0.74800235],\n",
       "       [0.8827935 ],\n",
       "       [0.8834895 ],\n",
       "       [0.2557752 ],\n",
       "       [0.92326546],\n",
       "       [0.85623527],\n",
       "       [0.83791333],\n",
       "       [0.8565432 ],\n",
       "       [0.756299  ],\n",
       "       [0.08484303],\n",
       "       [0.5499344 ],\n",
       "       [0.98082507],\n",
       "       [0.41548866],\n",
       "       [0.05571794],\n",
       "       [0.19797781],\n",
       "       [0.2195824 ],\n",
       "       [0.16891335]], dtype=float32)"
      ]
     },
     "execution_count": 27,
     "metadata": {},
     "output_type": "execute_result"
    }
   ],
   "source": [
    "prediction_VGG16"
   ]
  },
  {
   "cell_type": "code",
   "execution_count": 29,
   "metadata": {},
   "outputs": [
    {
     "data": {
      "text/plain": [
       "200"
      ]
     },
     "execution_count": 29,
     "metadata": {},
     "output_type": "execute_result"
    }
   ],
   "source": [
    "len(prediction_VGG16)"
   ]
  },
  {
   "cell_type": "code",
   "execution_count": 33,
   "metadata": {},
   "outputs": [
    {
     "data": {
      "text/plain": [
       "array([0, 0, 0, 0, 0, 0, 0, 0, 0, 0, 0, 0, 0, 0, 0, 0, 0, 0, 0, 0, 0, 0,\n",
       "       0, 0, 0, 0, 0, 0, 0, 0, 0, 0, 0, 0, 0, 0, 0, 0, 0, 0, 0, 0, 0, 0,\n",
       "       0, 0, 0, 0, 0, 0, 0, 0, 0, 0, 0, 0, 0, 0, 0, 0, 0, 0, 0, 0, 0, 0,\n",
       "       0, 0, 0, 0, 0, 0, 0, 0, 0, 0, 0, 0, 0, 0, 0, 0, 0, 0, 0, 0, 0, 0,\n",
       "       0, 0, 0, 0, 0, 0, 0, 0, 0, 0, 0, 0, 0, 0, 0, 0, 0, 0, 0, 0, 0, 0,\n",
       "       0, 0, 0, 0, 0, 0, 0, 0, 0, 0, 0, 0, 0, 0, 0, 0, 0, 0, 0, 0, 0, 0,\n",
       "       0, 0, 0, 0, 0, 0, 0, 0, 0, 0, 0, 0, 0, 0, 0, 0, 0, 0, 0, 0, 0, 0,\n",
       "       0, 0, 0, 0, 0, 0, 0, 0, 0, 0, 0, 0, 0, 0, 0, 0, 0, 0, 0, 0, 0, 0,\n",
       "       0, 0, 0, 0, 0, 0, 0, 0, 0, 0, 0, 0, 0, 0, 0, 0, 0, 0, 0, 0, 0, 0,\n",
       "       0, 0], dtype=int64)"
      ]
     },
     "execution_count": 33,
     "metadata": {},
     "output_type": "execute_result"
    }
   ],
   "source": [
    " xx=np.argmax(prediction_VGG16,axis=1)\n",
    "xx"
   ]
  },
  {
   "cell_type": "code",
   "execution_count": 22,
   "metadata": {},
   "outputs": [
    {
     "data": {
      "text/plain": [
       "array([0, 0, 0, 0, 0, 0, 0, 0, 0, 0, 0, 0, 0, 0, 0, 0, 0, 0, 0, 0, 0, 0,\n",
       "       0, 0, 0, 0, 0, 0, 0, 0, 0, 0, 0, 0, 0, 0, 0, 0, 0, 0, 0, 0, 0, 0,\n",
       "       0, 0, 0, 0, 0, 0, 0, 0, 0, 0, 0, 0, 0, 0, 0, 0, 0, 0, 0, 0, 0, 0,\n",
       "       0, 0, 0, 0, 0, 0, 0, 0, 0, 0, 0, 0, 0, 0, 0, 0, 0, 0, 0, 0, 0, 0,\n",
       "       0, 0, 0, 0, 0, 0, 0, 0, 0, 0, 0, 0, 0, 0, 0, 0, 0, 0, 0, 0, 0, 0,\n",
       "       0, 0, 0, 0, 0, 0, 0, 0, 0, 0, 0, 0, 0, 0, 0, 0, 0, 0, 0, 0, 0, 0,\n",
       "       0, 0, 0, 0, 0, 0, 0, 0, 0, 0, 0, 0, 0, 0, 0, 0, 0, 0, 0, 0, 0, 0,\n",
       "       0, 0, 0, 0, 0, 0, 0, 0, 0, 0, 0, 0, 0, 0, 0, 0, 0, 0, 0, 0, 0, 0,\n",
       "       0, 0, 0, 0, 0, 0, 0, 0, 0, 0, 0, 0, 0, 0, 0, 0, 0, 0, 0, 0, 0, 0,\n",
       "       0, 0], dtype=int64)"
      ]
     },
     "execution_count": 22,
     "metadata": {},
     "output_type": "execute_result"
    }
   ],
   "source": [
    "prediction_VGG16"
   ]
  },
  {
   "cell_type": "code",
   "execution_count": 35,
   "metadata": {},
   "outputs": [
    {
     "name": "stdout",
     "output_type": "stream",
     "text": [
      "Classification Report:\n",
      "                  precision    recall  f1-score   support\n",
      "\n",
      "No AS Diagnosis       0.86      0.73      0.79       100\n",
      "   AS Diagnosis       0.77      0.88      0.82       100\n",
      "\n",
      "       accuracy                           0.81       200\n",
      "      macro avg       0.81      0.80      0.80       200\n",
      "   weighted avg       0.81      0.81      0.80       200\n",
      "\n",
      "Confusion Matrix:\n",
      " [[73 27]\n",
      " [12 88]]\n"
     ]
    }
   ],
   "source": [
    "from sklearn.metrics import classification_report, confusion_matrix , f1_score\n",
    "\n",
    "# Get true labels\n",
    "true_labels = test_generator.classes\n",
    "\n",
    "# Get predicted labels (Apply threshold 0.5 since it's binary classification)\n",
    "predicted_labels = (prediction_VGG16 > 0.5).astype(int)\n",
    "\n",
    "# Generate classification report\n",
    "report = classification_report(true_labels, predicted_labels, target_names=[\"No AS Diagnosis\", \"AS Diagnosis\"])\n",
    "\n",
    "# Print classification report\n",
    "print(\"Classification Report:\\n\", report)\n",
    "\n",
    "# Compute confusion matrix\n",
    "conf_matrix = confusion_matrix(true_labels, predicted_labels)\n",
    "print(\"Confusion Matrix:\\n\", conf_matrix)"
   ]
  },
  {
   "cell_type": "code",
   "execution_count": null,
   "metadata": {},
   "outputs": [],
   "source": [
    "# plot confusion metric\n"
   ]
  },
  {
   "cell_type": "code",
   "execution_count": null,
   "metadata": {},
   "outputs": [],
   "source": []
  },
  {
   "cell_type": "code",
   "execution_count": null,
   "metadata": {},
   "outputs": [],
   "source": []
  },
  {
   "cell_type": "code",
   "execution_count": 57,
   "metadata": {},
   "outputs": [],
   "source": [
    "# Define class names\n",
    "class_names = [\"No AS Diagnosis\", \"AS Diagnosis\"]"
   ]
  },
  {
   "cell_type": "code",
   "execution_count": 61,
   "metadata": {},
   "outputs": [],
   "source": [
    "from keras.models import load_model\n",
    "\n",
    "load_imagePath = 'D:/Final Year/FYP/Dataset 1/Axial/Testing Dataset/AS diagnosis/sass (901).png'\n",
    "saved_model = load_model('D:/Final Year/FYP/ankylosing_spondylitis_vgg16_model_Final_2.keras')"
   ]
  },
  {
   "cell_type": "code",
   "execution_count": 63,
   "metadata": {},
   "outputs": [
    {
     "name": "stdout",
     "output_type": "stream",
     "text": [
      "<class 'numpy.ndarray'>\n",
      "\u001b[1m1/1\u001b[0m \u001b[32m━━━━━━━━━━━━━━━━━━━━\u001b[0m\u001b[37m\u001b[0m \u001b[1m0s\u001b[0m 343ms/step\n",
      "[[1.3565802e-05]]\n",
      "Classification:  No AS Diagnosis\n",
      "Value 1.3565802e-05\n"
     ]
    },
    {
     "name": "stderr",
     "output_type": "stream",
     "text": [
      "C:\\Users\\ASUS ZenBook\\AppData\\Local\\Temp\\ipykernel_8676\\1382370381.py:10: DeprecationWarning: Conversion of an array with ndim > 0 to a scalar is deprecated, and will error in future. Ensure you extract a single element from your array before performing this operation. (Deprecated NumPy 1.25.)\n",
      "  print(\"Classification: \",class_names[int(np.argmax(result,axis=1))])\n"
     ]
    },
    {
     "data": {
      "image/png": "[encoded data removed]",
      "text/plain": [
       "<Figure size 640x480 with 1 Axes>"
      ]
     },
     "metadata": {},
     "output_type": "display_data"
    }
   ],
   "source": [
    "from keras.preprocessing import image\n",
    "\n",
    "test_img = image.load_img(load_imagePath, target_size=(224, 224))  # Assuming your model uses 224x224 images\n",
    "test_image = image.img_to_array(test_img)\n",
    "test_image = np.expand_dims(test_image, axis = 0)\n",
    "print(type(test_image))    \n",
    "result = saved_model.predict(test_image)\n",
    "print(result)\n",
    "plt.imshow(test_img) \n",
    "print(\"Classification: \",class_names[int(np.argmax(result,axis=1))])\n",
    "print(\"Value\", np.amax(result))"
   ]
  },
  {
   "cell_type": "code",
   "execution_count": 67,
   "metadata": {},
   "outputs": [
    {
     "name": "stdout",
     "output_type": "stream",
     "text": [
      "\u001b[1m6/7\u001b[0m \u001b[32m━━━━━━━━━━━━━━━━━\u001b[0m\u001b[37m━━━\u001b[0m \u001b[1m5s\u001b[0m 6s/step WARNING:tensorflow:5 out of the last 15 calls to <function TensorFlowTrainer.make_predict_function.<locals>.one_step_on_data_distributed at 0x0000015BFEFD6A20> triggered tf.function retracing. Tracing is expensive and the excessive number of tracings could be due to (1) creating @tf.function repeatedly in a loop, (2) passing tensors with different shapes, (3) passing Python objects instead of tensors. For (1), please define your @tf.function outside of the loop. For (2), @tf.function has reduce_retracing=True option that can avoid unnecessary retracing. For (3), please refer to https://www.tensorflow.org/guide/function#controlling_retracing and https://www.tensorflow.org/api_docs/python/tf/function for  more details.\n",
      "\u001b[1m7/7\u001b[0m \u001b[32m━━━━━━━━━━━━━━━━━━━━\u001b[0m\u001b[37m\u001b[0m \u001b[1m33s\u001b[0m 5s/step\n"
     ]
    }
   ],
   "source": [
    "# Predict and classify test images\n",
    "predictions = saved_model.predict(test_generator)\n",
    "predicted_classes = (predictions > 0.5).astype(int)"
   ]
  },
  {
   "cell_type": "code",
   "execution_count": 69,
   "metadata": {},
   "outputs": [],
   "source": [
    "# Map predicted classes to Yes/No for Ankylosing Spondylitis\n",
    "def class_to_label(pred):\n",
    "    return \"Yes\" if pred == 0 else \"No\"\n",
    "\n",
    "predicted_labels = [class_to_label(pred[0]) for pred in predicted_classes]"
   ]
  },
  {
   "cell_type": "code",
   "execution_count": 71,
   "metadata": {},
   "outputs": [
    {
     "name": "stdout",
     "output_type": "stream",
     "text": [
      "Image: AS Diganosis\\sass (13).png, Predicted: Yes\n",
      "Image: AS Diganosis\\sass (133).png, Predicted: Yes\n",
      "Image: AS Diganosis\\sass (165).png, Predicted: Yes\n",
      "Image: AS Diganosis\\sass (166).png, Predicted: Yes\n",
      "Image: AS Diganosis\\sass (17).png, Predicted: Yes\n",
      "Image: AS Diganosis\\sass (187).png, Predicted: Yes\n",
      "Image: AS Diganosis\\sass (19).png, Predicted: Yes\n",
      "Image: AS Diganosis\\sass (195).png, Predicted: No\n",
      "Image: AS Diganosis\\sass (203).png, Predicted: Yes\n",
      "Image: AS Diganosis\\sass (206).png, Predicted: Yes\n",
      "Image: AS Diganosis\\sass (21).png, Predicted: Yes\n",
      "Image: AS Diganosis\\sass (234).png, Predicted: Yes\n",
      "Image: AS Diganosis\\sass (237).png, Predicted: Yes\n",
      "Image: AS Diganosis\\sass (240).png, Predicted: Yes\n",
      "Image: AS Diganosis\\sass (249).png, Predicted: Yes\n",
      "Image: AS Diganosis\\sass (262).png, Predicted: Yes\n",
      "Image: AS Diganosis\\sass (263).png, Predicted: Yes\n",
      "Image: AS Diganosis\\sass (267).png, Predicted: No\n",
      "Image: AS Diganosis\\sass (272).png, Predicted: Yes\n",
      "Image: AS Diganosis\\sass (298).png, Predicted: Yes\n",
      "Image: AS Diganosis\\sass (308).png, Predicted: Yes\n",
      "Image: AS Diganosis\\sass (313).png, Predicted: Yes\n",
      "Image: AS Diganosis\\sass (325).png, Predicted: Yes\n",
      "Image: AS Diganosis\\sass (326).png, Predicted: Yes\n",
      "Image: AS Diganosis\\sass (330).png, Predicted: Yes\n",
      "Image: AS Diganosis\\sass (339).png, Predicted: Yes\n",
      "Image: AS Diganosis\\sass (345).png, Predicted: No\n",
      "Image: AS Diganosis\\sass (357).png, Predicted: Yes\n",
      "Image: AS Diganosis\\sass (366).png, Predicted: Yes\n",
      "Image: AS Diganosis\\sass (375).png, Predicted: Yes\n",
      "Image: AS Diganosis\\sass (378).png, Predicted: Yes\n",
      "Image: AS Diganosis\\sass (38).png, Predicted: Yes\n",
      "Image: AS Diganosis\\sass (380).png, Predicted: Yes\n",
      "Image: AS Diganosis\\sass (382).png, Predicted: Yes\n",
      "Image: AS Diganosis\\sass (399).png, Predicted: No\n",
      "Image: AS Diganosis\\sass (414).png, Predicted: No\n",
      "Image: AS Diganosis\\sass (420).png, Predicted: No\n",
      "Image: AS Diganosis\\sass (421).png, Predicted: No\n",
      "Image: AS Diganosis\\sass (430).png, Predicted: Yes\n",
      "Image: AS Diganosis\\sass (432).png, Predicted: Yes\n",
      "Image: AS Diganosis\\sass (434).png, Predicted: Yes\n",
      "Image: AS Diganosis\\sass (443).png, Predicted: No\n",
      "Image: AS Diganosis\\sass (448).png, Predicted: No\n",
      "Image: AS Diganosis\\sass (455).png, Predicted: No\n",
      "Image: AS Diganosis\\sass (470).png, Predicted: Yes\n",
      "Image: AS Diganosis\\sass (494).png, Predicted: No\n",
      "Image: AS Diganosis\\sass (498).png, Predicted: No\n",
      "Image: AS Diganosis\\sass (508).png, Predicted: No\n",
      "Image: AS Diganosis\\sass (52).png, Predicted: Yes\n",
      "Image: AS Diganosis\\sass (526).png, Predicted: Yes\n",
      "Image: AS Diganosis\\sass (540).png, Predicted: Yes\n",
      "Image: AS Diganosis\\sass (544).png, Predicted: Yes\n",
      "Image: AS Diganosis\\sass (546).png, Predicted: Yes\n",
      "Image: AS Diganosis\\sass (589).png, Predicted: No\n",
      "Image: AS Diganosis\\sass (592).png, Predicted: Yes\n",
      "Image: AS Diganosis\\sass (598).png, Predicted: No\n",
      "Image: AS Diganosis\\sass (610).png, Predicted: No\n",
      "Image: AS Diganosis\\sass (611).png, Predicted: No\n",
      "Image: AS Diganosis\\sass (62).png, Predicted: Yes\n",
      "Image: AS Diganosis\\sass (629).png, Predicted: Yes\n",
      "Image: AS Diganosis\\sass (631).png, Predicted: Yes\n",
      "Image: AS Diganosis\\sass (635).png, Predicted: Yes\n",
      "Image: AS Diganosis\\sass (638).png, Predicted: Yes\n",
      "Image: AS Diganosis\\sass (642).png, Predicted: No\n",
      "Image: AS Diganosis\\sass (660).png, Predicted: No\n",
      "Image: AS Diganosis\\sass (664).png, Predicted: No\n",
      "Image: AS Diganosis\\sass (668).png, Predicted: No\n",
      "Image: AS Diganosis\\sass (674).png, Predicted: Yes\n",
      "Image: AS Diganosis\\sass (679).png, Predicted: Yes\n",
      "Image: AS Diganosis\\sass (702).png, Predicted: Yes\n",
      "Image: AS Diganosis\\sass (740).png, Predicted: Yes\n",
      "Image: AS Diganosis\\sass (741).png, Predicted: Yes\n",
      "Image: AS Diganosis\\sass (75).png, Predicted: Yes\n",
      "Image: AS Diganosis\\sass (755).png, Predicted: Yes\n",
      "Image: AS Diganosis\\sass (756).png, Predicted: Yes\n",
      "Image: AS Diganosis\\sass (76).png, Predicted: Yes\n",
      "Image: AS Diganosis\\sass (761).png, Predicted: Yes\n",
      "Image: AS Diganosis\\sass (785).png, Predicted: Yes\n",
      "Image: AS Diganosis\\sass (786).png, Predicted: Yes\n",
      "Image: AS Diganosis\\sass (79).png, Predicted: Yes\n",
      "Image: AS Diganosis\\sass (816).png, Predicted: Yes\n",
      "Image: AS Diganosis\\sass (818).png, Predicted: Yes\n",
      "Image: AS Diganosis\\sass (82).png, Predicted: No\n",
      "Image: AS Diganosis\\sass (826).png, Predicted: Yes\n",
      "Image: AS Diganosis\\sass (835).png, Predicted: Yes\n",
      "Image: AS Diganosis\\sass (840).png, Predicted: Yes\n",
      "Image: AS Diganosis\\sass (847).png, Predicted: Yes\n",
      "Image: AS Diganosis\\sass (856).png, Predicted: No\n",
      "Image: AS Diganosis\\sass (877).png, Predicted: Yes\n",
      "Image: AS Diganosis\\sass (879).png, Predicted: Yes\n",
      "Image: AS Diganosis\\sass (890).png, Predicted: Yes\n",
      "Image: AS Diganosis\\sass (894).png, Predicted: Yes\n",
      "Image: AS Diganosis\\sass (905).png, Predicted: Yes\n",
      "Image: AS Diganosis\\sass (918).png, Predicted: No\n",
      "Image: AS Diganosis\\sass (921).png, Predicted: Yes\n",
      "Image: AS Diganosis\\sass (926).png, Predicted: No\n",
      "Image: AS Diganosis\\sass (930).png, Predicted: No\n",
      "Image: AS Diganosis\\sass (936).png, Predicted: Yes\n",
      "Image: AS Diganosis\\sass (976).png, Predicted: No\n",
      "Image: AS Diganosis\\sass (98).png, Predicted: Yes\n",
      "Image: No AS Diganosis\\c3 (104).png, Predicted: No\n",
      "Image: No AS Diganosis\\c3 (105).png, Predicted: No\n",
      "Image: No AS Diganosis\\c3 (118).png, Predicted: No\n",
      "Image: No AS Diganosis\\c3 (131).png, Predicted: Yes\n",
      "Image: No AS Diganosis\\c3 (158).png, Predicted: No\n",
      "Image: No AS Diganosis\\c3 (170).png, Predicted: No\n",
      "Image: No AS Diganosis\\c3 (180).png, Predicted: No\n",
      "Image: No AS Diganosis\\c3 (189).png, Predicted: No\n",
      "Image: No AS Diganosis\\c3 (19).png, Predicted: Yes\n",
      "Image: No AS Diganosis\\c3 (190).png, Predicted: No\n",
      "Image: No AS Diganosis\\c3 (21).png, Predicted: No\n",
      "Image: No AS Diganosis\\c3 (228).png, Predicted: No\n",
      "Image: No AS Diganosis\\c3 (230).png, Predicted: No\n",
      "Image: No AS Diganosis\\c3 (248).png, Predicted: No\n",
      "Image: No AS Diganosis\\c3 (250).png, Predicted: No\n",
      "Image: No AS Diganosis\\c3 (263).png, Predicted: No\n",
      "Image: No AS Diganosis\\c3 (278).png, Predicted: No\n",
      "Image: No AS Diganosis\\c3 (284).png, Predicted: No\n",
      "Image: No AS Diganosis\\c3 (285).png, Predicted: No\n",
      "Image: No AS Diganosis\\c3 (288).png, Predicted: No\n",
      "Image: No AS Diganosis\\c3 (293).png, Predicted: No\n",
      "Image: No AS Diganosis\\c3 (313).png, Predicted: No\n",
      "Image: No AS Diganosis\\c3 (325).png, Predicted: No\n",
      "Image: No AS Diganosis\\c3 (334).png, Predicted: No\n",
      "Image: No AS Diganosis\\c3 (336).png, Predicted: No\n",
      "Image: No AS Diganosis\\c3 (338).png, Predicted: No\n",
      "Image: No AS Diganosis\\c3 (349).png, Predicted: No\n",
      "Image: No AS Diganosis\\c3 (35).png, Predicted: No\n",
      "Image: No AS Diganosis\\c3 (351).png, Predicted: No\n",
      "Image: No AS Diganosis\\c3 (399).png, Predicted: Yes\n",
      "Image: No AS Diganosis\\c3 (4).png, Predicted: No\n",
      "Image: No AS Diganosis\\c3 (403).png, Predicted: No\n",
      "Image: No AS Diganosis\\c3 (437).png, Predicted: No\n",
      "Image: No AS Diganosis\\c3 (44).png, Predicted: No\n",
      "Image: No AS Diganosis\\c3 (447).png, Predicted: No\n",
      "Image: No AS Diganosis\\c3 (473).png, Predicted: No\n",
      "Image: No AS Diganosis\\c3 (5).png, Predicted: Yes\n",
      "Image: No AS Diganosis\\c3 (503).png, Predicted: No\n",
      "Image: No AS Diganosis\\c3 (506).png, Predicted: No\n",
      "Image: No AS Diganosis\\c3 (51).png, Predicted: No\n",
      "Image: No AS Diganosis\\c3 (520).png, Predicted: No\n",
      "Image: No AS Diganosis\\c3 (529).png, Predicted: No\n",
      "Image: No AS Diganosis\\c3 (535).png, Predicted: No\n",
      "Image: No AS Diganosis\\c3 (537).png, Predicted: No\n",
      "Image: No AS Diganosis\\c3 (547).png, Predicted: No\n",
      "Image: No AS Diganosis\\c3 (548).png, Predicted: No\n",
      "Image: No AS Diganosis\\c3 (561).png, Predicted: No\n",
      "Image: No AS Diganosis\\c3 (563).png, Predicted: No\n",
      "Image: No AS Diganosis\\c3 (581).png, Predicted: No\n",
      "Image: No AS Diganosis\\c3 (586).png, Predicted: No\n",
      "Image: No AS Diganosis\\c3 (60).png, Predicted: No\n",
      "Image: No AS Diganosis\\c3 (613).png, Predicted: No\n",
      "Image: No AS Diganosis\\c3 (622).png, Predicted: No\n",
      "Image: No AS Diganosis\\c3 (637).png, Predicted: No\n",
      "Image: No AS Diganosis\\c3 (653).png, Predicted: No\n",
      "Image: No AS Diganosis\\c3 (654).png, Predicted: No\n",
      "Image: No AS Diganosis\\c3 (656).png, Predicted: No\n",
      "Image: No AS Diganosis\\c3 (665).png, Predicted: No\n",
      "Image: No AS Diganosis\\c3 (676).png, Predicted: No\n",
      "Image: No AS Diganosis\\c3 (690).png, Predicted: No\n",
      "Image: No AS Diganosis\\c3 (692).png, Predicted: No\n",
      "Image: No AS Diganosis\\c3 (693).png, Predicted: No\n",
      "Image: No AS Diganosis\\c3 (695).png, Predicted: No\n",
      "Image: No AS Diganosis\\c3 (705).png, Predicted: Yes\n",
      "Image: No AS Diganosis\\c3 (706).png, Predicted: No\n",
      "Image: No AS Diganosis\\c3 (710).png, Predicted: No\n",
      "Image: No AS Diganosis\\c3 (720).png, Predicted: No\n",
      "Image: No AS Diganosis\\c3 (723).png, Predicted: No\n",
      "Image: No AS Diganosis\\c3 (724).png, Predicted: No\n",
      "Image: No AS Diganosis\\c3 (729).png, Predicted: No\n",
      "Image: No AS Diganosis\\c3 (736).png, Predicted: No\n",
      "Image: No AS Diganosis\\c3 (75).png, Predicted: No\n",
      "Image: No AS Diganosis\\c3 (76).png, Predicted: No\n",
      "Image: No AS Diganosis\\c3 (78).png, Predicted: No\n",
      "Image: No AS Diganosis\\c3 (805).png, Predicted: No\n",
      "Image: No AS Diganosis\\c3 (811).png, Predicted: No\n",
      "Image: No AS Diganosis\\c3 (828).png, Predicted: No\n",
      "Image: No AS Diganosis\\c3 (831).png, Predicted: No\n",
      "Image: No AS Diganosis\\c3 (836).png, Predicted: No\n",
      "Image: No AS Diganosis\\c3 (851).png, Predicted: No\n",
      "Image: No AS Diganosis\\c3 (859).png, Predicted: No\n",
      "Image: No AS Diganosis\\c3 (866).png, Predicted: No\n",
      "Image: No AS Diganosis\\c3 (874).png, Predicted: No\n",
      "Image: No AS Diganosis\\c3 (890).png, Predicted: No\n",
      "Image: No AS Diganosis\\c3 (892).png, Predicted: No\n",
      "Image: No AS Diganosis\\c3 (895).png, Predicted: No\n",
      "Image: No AS Diganosis\\c3 (902).png, Predicted: Yes\n",
      "Image: No AS Diganosis\\c3 (906).png, Predicted: No\n",
      "Image: No AS Diganosis\\c3 (909).png, Predicted: No\n",
      "Image: No AS Diganosis\\c3 (914).png, Predicted: No\n",
      "Image: No AS Diganosis\\c3 (923).png, Predicted: No\n",
      "Image: No AS Diganosis\\c3 (93).png, Predicted: No\n",
      "Image: No AS Diganosis\\c3 (959).png, Predicted: Yes\n",
      "Image: No AS Diganosis\\c3 (968).png, Predicted: No\n",
      "Image: No AS Diganosis\\c3 (97).png, Predicted: No\n",
      "Image: No AS Diganosis\\c3 (977).png, Predicted: Yes\n",
      "Image: No AS Diganosis\\c3 (986).png, Predicted: Yes\n",
      "Image: No AS Diganosis\\c3 (989).png, Predicted: Yes\n",
      "Image: No AS Diganosis\\c3 (990).png, Predicted: Yes\n",
      "Image: No AS Diganosis\\c3 (992).png, Predicted: Yes\n"
     ]
    }
   ],
   "source": [
    "# Display predictions\n",
    "for i, filename in enumerate(test_generator.filenames):\n",
    "    print(f\"Image: {filename}, Predicted: {predicted_labels[i]}\")"
   ]
  },
  {
   "cell_type": "code",
   "execution_count": 73,
   "metadata": {},
   "outputs": [],
   "source": [
    "# Function to predict a single image\n",
    "def predict_single_image(image_path):\n",
    "    \"\"\"\n",
    "    Predicts whether an image indicates Ankylosing Spondylitis (Yes/No).\n",
    "\n",
    "    Args:\n",
    "    image_path (str): Path to the image.\n",
    "\n",
    "    Returns:\n",
    "    str: \"Yes\" if Ankylosing Spondylitis is detected, otherwise \"No\".\n",
    "    \"\"\"\n",
    "    # Load and preprocess the image\n",
    "    img = load_img(image_path, target_size=(img_height, img_width))\n",
    "    img_array = img_to_array(img)\n",
    "    img_array = enhance_image(img_array)  # Apply image enhancement\n",
    "    img_array = img_array / 255.0  # Rescale pixel values\n",
    "    img_array = np.expand_dims(img_array, axis=0)  # Add batch dimension\n",
    "\n",
    "    # Predict\n",
    "    prediction = model.predict(img_array)\n",
    "    predicted_class = (prediction > 0.5).astype(int)[0][0]\n",
    "\n",
    "    # Map to \"Yes\" or \"No\"\n",
    "    return \"Yes\" if predicted_class == 1 else \"No\""
   ]
  },
  {
   "cell_type": "code",
   "execution_count": null,
   "metadata": {},
   "outputs": [],
   "source": []
  },
  {
   "cell_type": "code",
   "execution_count": null,
   "metadata": {},
   "outputs": [],
   "source": []
  },
  {
   "cell_type": "code",
   "execution_count": null,
   "metadata": {},
   "outputs": [],
   "source": []
  },
  {
   "cell_type": "code",
   "execution_count": null,
   "metadata": {},
   "outputs": [],
   "source": []
  },
  {
   "cell_type": "code",
   "execution_count": null,
   "metadata": {},
   "outputs": [],
   "source": []
  },
  {
   "cell_type": "code",
   "execution_count": null,
   "metadata": {},
   "outputs": [],
   "source": []
  },
  {
   "cell_type": "code",
   "execution_count": 47,
   "metadata": {},
   "outputs": [
    {
     "name": "stdout",
     "output_type": "stream",
     "text": [
      "\u001b[1m7/7\u001b[0m \u001b[32m━━━━━━━━━━━━━━━━━━━━\u001b[0m\u001b[37m\u001b[0m \u001b[1m41s\u001b[0m 6s/step\n"
     ]
    },
    {
     "data": {
      "text/plain": [
       "array([[0.16693072],\n",
       "       [0.4494785 ],\n",
       "       [0.0996934 ],\n",
       "       [0.07207481],\n",
       "       [0.08517908],\n",
       "       [0.15645123],\n",
       "       [0.14211202],\n",
       "       [0.6938627 ],\n",
       "       [0.22183824],\n",
       "       [0.48247004],\n",
       "       [0.42031085],\n",
       "       [0.18906246],\n",
       "       [0.11403557],\n",
       "       [0.2569486 ],\n",
       "       [0.02906567],\n",
       "       [0.21979426],\n",
       "       [0.19730352],\n",
       "       [0.6053656 ],\n",
       "       [0.41966918],\n",
       "       [0.08677176],\n",
       "       [0.0766032 ],\n",
       "       [0.10140739],\n",
       "       [0.06871036],\n",
       "       [0.02615514],\n",
       "       [0.0533544 ],\n",
       "       [0.03470376],\n",
       "       [0.7156    ],\n",
       "       [0.02488562],\n",
       "       [0.12700231],\n",
       "       [0.09565222],\n",
       "       [0.05191758],\n",
       "       [0.08117003],\n",
       "       [0.09699524],\n",
       "       [0.0283642 ],\n",
       "       [0.87089056],\n",
       "       [0.9346168 ],\n",
       "       [0.54186463],\n",
       "       [0.80798966],\n",
       "       [0.06860929],\n",
       "       [0.09780506],\n",
       "       [0.04337105],\n",
       "       [0.95469016],\n",
       "       [0.9261589 ],\n",
       "       [0.93849874],\n",
       "       [0.27363053],\n",
       "       [0.6956008 ],\n",
       "       [0.6925005 ],\n",
       "       [0.88257086],\n",
       "       [0.06577074],\n",
       "       [0.11324112],\n",
       "       [0.12502283],\n",
       "       [0.26174757],\n",
       "       [0.18550596],\n",
       "       [0.85164034],\n",
       "       [0.4557604 ],\n",
       "       [0.8007995 ],\n",
       "       [0.9060066 ],\n",
       "       [0.6249734 ],\n",
       "       [0.03507828],\n",
       "       [0.3425571 ],\n",
       "       [0.11184505],\n",
       "       [0.21059535],\n",
       "       [0.14673787],\n",
       "       [0.9262935 ],\n",
       "       [0.82013726],\n",
       "       [0.8201866 ],\n",
       "       [0.74739677],\n",
       "       [0.24270812],\n",
       "       [0.13199133],\n",
       "       [0.27932113],\n",
       "       [0.08349437],\n",
       "       [0.15361856],\n",
       "       [0.19186565],\n",
       "       [0.09405744],\n",
       "       [0.22462966],\n",
       "       [0.37660074],\n",
       "       [0.02933787],\n",
       "       [0.02712729],\n",
       "       [0.02238607],\n",
       "       [0.10049536],\n",
       "       [0.15792568],\n",
       "       [0.31851867],\n",
       "       [0.605523  ],\n",
       "       [0.04353135],\n",
       "       [0.11783545],\n",
       "       [0.07592613],\n",
       "       [0.33746782],\n",
       "       [0.5379952 ],\n",
       "       [0.11058071],\n",
       "       [0.3934968 ],\n",
       "       [0.29069966],\n",
       "       [0.17673211],\n",
       "       [0.15334764],\n",
       "       [0.70976377],\n",
       "       [0.40113622],\n",
       "       [0.8415724 ],\n",
       "       [0.79235727],\n",
       "       [0.05096178],\n",
       "       [0.81186163],\n",
       "       [0.1773796 ],\n",
       "       [0.9829447 ],\n",
       "       [0.98465437],\n",
       "       [0.857124  ],\n",
       "       [0.27197194],\n",
       "       [0.95255774],\n",
       "       [0.856081  ],\n",
       "       [0.9694159 ],\n",
       "       [0.9695177 ],\n",
       "       [0.22843435],\n",
       "       [0.9748004 ],\n",
       "       [0.50960356],\n",
       "       [0.82803935],\n",
       "       [0.95298696],\n",
       "       [0.87085897],\n",
       "       [0.82450587],\n",
       "       [0.9497689 ],\n",
       "       [0.9445133 ],\n",
       "       [0.94938236],\n",
       "       [0.9311727 ],\n",
       "       [0.97220653],\n",
       "       [0.8976357 ],\n",
       "       [0.89756584],\n",
       "       [0.9489723 ],\n",
       "       [0.9421905 ],\n",
       "       [0.97187275],\n",
       "       [0.8668898 ],\n",
       "       [0.9269748 ],\n",
       "       [0.7743886 ],\n",
       "       [0.9699693 ],\n",
       "       [0.34122583],\n",
       "       [0.77324367],\n",
       "       [0.9735154 ],\n",
       "       [0.868802  ],\n",
       "       [0.83899677],\n",
       "       [0.938727  ],\n",
       "       [0.7556309 ],\n",
       "       [0.38836294],\n",
       "       [0.9046501 ],\n",
       "       [0.9761238 ],\n",
       "       [0.8281741 ],\n",
       "       [0.9832192 ],\n",
       "       [0.9811498 ],\n",
       "       [0.95930403],\n",
       "       [0.9235937 ],\n",
       "       [0.8730854 ],\n",
       "       [0.8739315 ],\n",
       "       [0.950199  ],\n",
       "       [0.95122355],\n",
       "       [0.9133605 ],\n",
       "       [0.9586543 ],\n",
       "       [0.9705774 ],\n",
       "       [0.9514569 ],\n",
       "       [0.97514296],\n",
       "       [0.9371124 ],\n",
       "       [0.89717335],\n",
       "       [0.92389655],\n",
       "       [0.90484095],\n",
       "       [0.8158214 ],\n",
       "       [0.95710135],\n",
       "       [0.9517652 ],\n",
       "       [0.9541397 ],\n",
       "       [0.9587587 ],\n",
       "       [0.9394451 ],\n",
       "       [0.38581356],\n",
       "       [0.77754045],\n",
       "       [0.747162  ],\n",
       "       [0.87940806],\n",
       "       [0.89363754],\n",
       "       [0.8559797 ],\n",
       "       [0.88116485],\n",
       "       [0.91663593],\n",
       "       [0.9714917 ],\n",
       "       [0.9591372 ],\n",
       "       [0.9674228 ],\n",
       "       [0.9076078 ],\n",
       "       [0.94456565],\n",
       "       [0.83932525],\n",
       "       [0.9185826 ],\n",
       "       [0.83724535],\n",
       "       [0.6551937 ],\n",
       "       [0.94712734],\n",
       "       [0.9013565 ],\n",
       "       [0.88303584],\n",
       "       [0.74800235],\n",
       "       [0.8827935 ],\n",
       "       [0.8834895 ],\n",
       "       [0.2557752 ],\n",
       "       [0.92326546],\n",
       "       [0.85623527],\n",
       "       [0.83791333],\n",
       "       [0.8565432 ],\n",
       "       [0.756299  ],\n",
       "       [0.08484303],\n",
       "       [0.5499344 ],\n",
       "       [0.98082507],\n",
       "       [0.41548866],\n",
       "       [0.05571794],\n",
       "       [0.19797781],\n",
       "       [0.2195824 ],\n",
       "       [0.16891335]], dtype=float32)"
      ]
     },
     "execution_count": 47,
     "metadata": {},
     "output_type": "execute_result"
    }
   ],
   "source": [
    "import numpy as np\n",
    "from sklearn.metrics import confusion_matrix, classification_report\n",
    "import seaborn as sns\n",
    "import matplotlib.pyplot as plt\n",
    "\n",
    "# Get probabilities from model\n",
    "y_probs = saved_model.predict(test_generator)  # Shape: (N, 1)\n",
    "y_probs"
   ]
  },
  {
   "cell_type": "code",
   "execution_count": 48,
   "metadata": {},
   "outputs": [
    {
     "data": {
      "text/plain": [
       "array([0, 0, 0, 0, 0, 0, 0, 1, 0, 0, 0, 0, 0, 0, 0, 0, 0, 1, 0, 0, 0, 0,\n",
       "       0, 0, 0, 0, 1, 0, 0, 0, 0, 0, 0, 0, 1, 1, 1, 1, 0, 0, 0, 1, 1, 1,\n",
       "       0, 1, 1, 1, 0, 0, 0, 0, 0, 1, 0, 1, 1, 1, 0, 0, 0, 0, 0, 1, 1, 1,\n",
       "       1, 0, 0, 0, 0, 0, 0, 0, 0, 0, 0, 0, 0, 0, 0, 0, 1, 0, 0, 0, 0, 1,\n",
       "       0, 0, 0, 0, 0, 1, 0, 1, 1, 0, 1, 0, 1, 1, 1, 0, 1, 1, 1, 1, 0, 1,\n",
       "       1, 1, 1, 1, 1, 1, 1, 1, 1, 1, 1, 1, 1, 1, 1, 1, 1, 1, 1, 0, 1, 1,\n",
       "       1, 1, 1, 1, 0, 1, 1, 1, 1, 1, 1, 1, 1, 1, 1, 1, 1, 1, 1, 1, 1, 1,\n",
       "       1, 1, 1, 1, 1, 1, 1, 1, 1, 0, 1, 1, 1, 1, 1, 1, 1, 1, 1, 1, 1, 1,\n",
       "       1, 1, 1, 1, 1, 1, 1, 1, 1, 1, 0, 1, 1, 1, 1, 1, 0, 1, 1, 0, 0, 0,\n",
       "       0, 0])"
      ]
     },
     "execution_count": 48,
     "metadata": {},
     "output_type": "execute_result"
    }
   ],
   "source": [
    "# Convert probabilities to binary labels (Threshold: 0.5 by default)\n",
    "threshold = 0.5  # Adjust if necessary\n",
    "y_pred = (y_probs > threshold).astype(int).flatten()  # Convert shape (N, 1) → (N,)\n",
    "y_pred"
   ]
  },
  {
   "cell_type": "code",
   "execution_count": 53,
   "metadata": {},
   "outputs": [
    {
     "data": {
      "text/plain": [
       "array([0, 0, 0, 0, 0, 0, 0, 1, 0, 0, 0, 0, 0, 0, 0, 0, 0, 1, 0, 0, 0, 0,\n",
       "       0, 0, 0, 0, 1, 0, 0, 0, 0, 0, 0, 0, 1, 1, 1, 1, 0, 0, 0, 1, 1, 1,\n",
       "       0, 1, 1, 1, 0, 0, 0, 0, 0, 1, 0, 1, 1, 1, 0, 0, 0, 0, 0, 1, 1, 1,\n",
       "       1, 0, 0, 0, 0, 0, 0, 0, 0, 0, 0, 0, 0, 0, 0, 0, 1, 0, 0, 0, 0, 1,\n",
       "       0, 0, 0, 0, 0, 1, 0, 1, 1, 0, 1, 0, 1, 1, 1, 0, 1, 1, 1, 1, 0, 1,\n",
       "       1, 1, 1, 1, 1, 1, 1, 1, 1, 1, 1, 1, 1, 1, 1, 1, 1, 1, 1, 0, 1, 1,\n",
       "       1, 1, 1, 1, 0, 1, 1, 1, 1, 1, 1, 1, 1, 1, 1, 1, 1, 1, 1, 1, 1, 1,\n",
       "       1, 1, 1, 1, 1, 1, 1, 1, 1, 0, 1, 1, 1, 1, 1, 1, 1, 1, 1, 1, 1, 1,\n",
       "       1, 1, 1, 1, 1, 1, 1, 1, 1, 1, 0, 1, 1, 1, 1, 1, 0, 1, 1, 0, 0, 0,\n",
       "       0, 0])"
      ]
     },
     "execution_count": 53,
     "metadata": {},
     "output_type": "execute_result"
    }
   ],
   "source": [
    "y_pred"
   ]
  },
  {
   "cell_type": "code",
   "execution_count": 57,
   "metadata": {},
   "outputs": [
    {
     "data": {
      "text/plain": [
       "array([0, 0, 0, 0, 0, 0, 0, 0, 0, 0, 0, 0, 0, 0, 0, 0, 0, 0, 0, 0, 0, 0,\n",
       "       0, 0, 0, 0, 0, 0, 0, 0, 0, 0, 0, 0, 0, 0, 0, 0, 0, 0, 0, 0, 0, 0,\n",
       "       0, 0, 0, 0, 0, 0, 0, 0, 0, 0, 0, 0, 0, 0, 0, 0, 0, 0, 0, 0, 0, 0,\n",
       "       0, 0, 0, 0, 0, 0, 0, 0, 0, 0, 0, 0, 0, 0, 0, 0, 0, 0, 0, 0, 0, 0,\n",
       "       0, 0, 0, 0, 0, 0, 0, 0, 0, 0, 0, 0, 1, 1, 1, 1, 1, 1, 1, 1, 1, 1,\n",
       "       1, 1, 1, 1, 1, 1, 1, 1, 1, 1, 1, 1, 1, 1, 1, 1, 1, 1, 1, 1, 1, 1,\n",
       "       1, 1, 1, 1, 1, 1, 1, 1, 1, 1, 1, 1, 1, 1, 1, 1, 1, 1, 1, 1, 1, 1,\n",
       "       1, 1, 1, 1, 1, 1, 1, 1, 1, 1, 1, 1, 1, 1, 1, 1, 1, 1, 1, 1, 1, 1,\n",
       "       1, 1, 1, 1, 1, 1, 1, 1, 1, 1, 1, 1, 1, 1, 1, 1, 1, 1, 1, 1, 1, 1,\n",
       "       1, 1])"
      ]
     },
     "execution_count": 57,
     "metadata": {},
     "output_type": "execute_result"
    }
   ],
   "source": [
    "# Get true labels\n",
    "true_labels = test_generator.classes\n",
    "true_labels"
   ]
  },
  {
   "cell_type": "code",
   "execution_count": 59,
   "metadata": {},
   "outputs": [],
   "source": [
    "# # Get true labels\n",
    "# true_labels = np.concatenate([label_batch for _, label_batch in test_generator], axis=0)"
   ]
  },
  {
   "cell_type": "code",
   "execution_count": 63,
   "metadata": {},
   "outputs": [
    {
     "data": {
      "image/png": "[encoded data removed]",
      "text/plain": [
       "<Figure size 500x500 with 2 Axes>"
      ]
     },
     "metadata": {},
     "output_type": "display_data"
    }
   ],
   "source": [
    "import seaborn as sns\n",
    "import matplotlib.pyplot as plt\n",
    "from sklearn.metrics import confusion_matrix\n",
    "\n",
    "# Compute confusion matrix\n",
    "cm = confusion_matrix(true_labels, predicted_labels)\n",
    "\n",
    "# Plot confusion matrix as heatmap\n",
    "fig, ax = plt.subplots(figsize=(5,5))\n",
    "sns.set(font_scale=1.2)\n",
    "sns.heatmap(cm, annot=True, fmt=\"d\", cmap=\"Blues\", linewidths=.5, ax=ax)\n",
    "\n",
    "# Labels and title\n",
    "ax.set_xlabel(\"Predicted Labels\")\n",
    "ax.set_ylabel(\"True Labels\")\n",
    "ax.set_title(\"Confusion Matrix\")\n",
    "\n",
    "# ✅ Corrected labels\n",
    "ax.xaxis.set_ticklabels([\"No AS Diagnosis\", \"AS Diagnosis\"])\n",
    "ax.yaxis.set_ticklabels([\"No AS Diagnosis\", \"AS Diagnosis\"])\n",
    "\n",
    "# Show plot\n",
    "plt.show()\n"
   ]
  },
  {
   "cell_type": "code",
   "execution_count": null,
   "metadata": {},
   "outputs": [],
   "source": []
  }
 ],
 "metadata": {
  "accelerator": "GPU",
  "colab": {
   "authorship_tag": "ABX9TyPWz8U3DAaSc52XG/6vs7sN",
   "gpuType": "T4",
   "provenance": []
  },
  "kernelspec": {
   "display_name": "Python 3 (ipykernel)",
   "language": "python",
   "name": "python3"
  },
  "language_info": {
   "codemirror_mode": {
    "name": "ipython",
    "version": 3
   },
   "file_extension": ".py",
   "mimetype": "text/x-python",
   "name": "python",
   "nbconvert_exporter": "python",
   "pygments_lexer": "ipython3",
   "version": "3.12.7"
  }
 },
 "nbformat": 4,
 "nbformat_minor": 4
}
